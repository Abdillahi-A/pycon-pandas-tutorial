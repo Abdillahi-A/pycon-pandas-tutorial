{
 "cells": [
  {
   "cell_type": "markdown",
   "metadata": {},
   "source": [
    "# Methods to remember:\n",
    "\n",
    "1. `df.sort_values('ColumnName')` - to sort df by particular column in asceding order\n",
    "\n",
    "2. `df.sort_values('ColumnName', ascending=False)` - to sort data by particular column in desceding order\n",
    "\n",
    "3. `df[df['columnName'].notnull()` - return a df with only non-missing values for particular column\n",
    "\n",
    "4. `df[df['columnName'].isnull()` - return a df with only missing values for particular column\n",
    "\n",
    "5. `df['columnName'].unique()` - to return a df of only unique values"
   ]
  },
  {
   "cell_type": "markdown",
   "metadata": {},
   "source": [
    "# **Summary of things learned from excercise-1:**\n",
    "\n",
    "1) How to filter/subset a dataframe according to ONE condition e.g. 'how many movies are titled Hamlet?'\n",
    "\n",
    "ANSWER:\n",
    "`titles[titles['title'] == 'Hamlet']`\n",
    "\n",
    "2) Sorting the df in ascending/descending order – e.g. sort movie titles called hamlet by year \n",
    "\n",
    "ANSWER:\n",
    "`titles[titles['title'] == 'Hamlet'].sort_values('year')`\n",
    "\n",
    "\\***NB:**\n",
    "set `ascending=False` to sort in descending order.\n",
    "\n",
    "\n",
    "3) Filtering/sub-setting a df according to more than one condition e.g. 'how many movies are titled Hamlet OR Othello?' \n",
    "\n",
    "ANSWER:\n",
    "`titles[(titles['title'] == 'Hamlet') | (titles['title']=='Othello')]`\n",
    "\n",
    "NB: remember to use the | operator for 'or' and the & operator for and to pair conditions as and/or will not work in pandas and to wrap each condition around a pair of parenthesis.\n",
    "\n",
    "\n",
    "4) Filtering a column to show only the NaN/Missing values e.g. 'how many actors were not credited i.e. did not recive an 'n' rank?' \n",
    "\n",
    "ANSWER:\n",
    "`cast[cast['n'].isnull()`\n",
    "\n",
    "\n",
    "5) Filter a column to show only non-missing values e.g. 'how many actors were credited for their role?'\n",
    "\n",
    "ANSWER:\n",
    "`cast[cast['n'].notnull()`\n",
    "\n",
    "6) Get a unique set of  items from a column e.g.'how many people have ever played an Ophelia'\n",
    "\n",
    "ANSWER: \n",
    "`cast[cast['character'] == 'Ophelia']['name'].unique()`\n",
    "\n",
    "\n",
    "# **TLDR:**\n",
    "filtering/subsetting data based on condition(s), getting/exlusing NaN values, returning a unqiue list and finally sorting data by a particualr column in ascendeing/descending order"
   ]
  },
  {
   "cell_type": "code",
   "execution_count": null,
   "metadata": {},
   "outputs": [],
   "source": []
  }
 ],
 "metadata": {
  "kernelspec": {
   "display_name": "Python 3",
   "language": "python",
   "name": "python3"
  },
  "language_info": {
   "codemirror_mode": {
    "name": "ipython",
    "version": 3
   },
   "file_extension": ".py",
   "mimetype": "text/x-python",
   "name": "python",
   "nbconvert_exporter": "python",
   "pygments_lexer": "ipython3",
   "version": "3.6.5"
  }
 },
 "nbformat": 4,
 "nbformat_minor": 2
}
