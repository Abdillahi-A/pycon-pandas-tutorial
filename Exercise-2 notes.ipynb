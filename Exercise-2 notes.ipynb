{
 "cells": [
  {
   "cell_type": "markdown",
   "metadata": {},
   "source": [
    "# Methods to remember:\n",
    "\n",
    "1. `df['ColumnName'].value_counts()` - after you've filtered your df and done all the relevant subsetting, you can use the `value_counts()` method to create a frequency table that'll help you answer questions such as most popular/least popular etc.\n",
    "\n",
    "\n",
    "2. `seriesObject/DataFrameObject.sort_index()` - all dataframes and series have an index which you can sort by. However, the method we learned in the previous exercise `.sort_values()` only works with columsn and won't work on indexes. Therefore to sort a df/series by its index you'll need to use the `sort_index()` method instead.\n",
    "\n",
    "3. `.plot(kind='specifyKindOfChartE.g.bar'` - its really easy to plot with seriesObjects. just add .plot() (making sure to specify the type of chart you want or it'll just return a line chart) and it'll know to treat the index as the x-axis, and the values as the y-axis. You can also call the `.plot()` method on a dataframe, however, since a dataframe has mutliple columns, you'll need to specify the `x-axis='NameOfX-axisColumn', 'y-axis='NameOfY-axisColumn'`\n",
    "\n",
    "4. `.str.startswith('Lebron James is the')` - this method is useful when filtering/subsetting your df/series. You can use it to identify whether strings in your column start with a partiuclar phrase. NB: remember to tell pandas your working with strings by prefacing`.startswith` with \n",
    "`.str`\n",
    "\n",
    "# Summary of things Learned:\n",
    "create frequency tables using `value_counts()`, sort dataframes/seriesObject by its index with `sort_series`, plot data using on either series or df objects using `.plot()`***NB:with df objects you need to specify the x-axis and y-axis**\n"
   ]
  },
  {
   "cell_type": "code",
   "execution_count": null,
   "metadata": {},
   "outputs": [],
   "source": []
  }
 ],
 "metadata": {
  "kernelspec": {
   "display_name": "Python 3",
   "language": "python",
   "name": "python3"
  },
  "language_info": {
   "codemirror_mode": {
    "name": "ipython",
    "version": 3
   },
   "file_extension": ".py",
   "mimetype": "text/x-python",
   "name": "python",
   "nbconvert_exporter": "python",
   "pygments_lexer": "ipython3",
   "version": "3.7.1"
  }
 },
 "nbformat": 4,
 "nbformat_minor": 2
}
