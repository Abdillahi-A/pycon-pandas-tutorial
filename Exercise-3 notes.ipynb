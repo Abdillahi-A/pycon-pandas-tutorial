{
 "cells": [
  {
   "cell_type": "markdown",
   "metadata": {},
   "source": [
    "# Summary of things Learned\n",
    "\n",
    "The `groupby()` method groups your data into groups -e.g. group all films by the year they were released, or group all students in a class by nationality. For each of those groups you can easily calculate things such as the size of the each group (i.e. frequency table) or the mean of each group etc.\n",
    "\n",
    "## **Easy example of groupby():**\n",
    "\n",
    "***Question**- 'List each of the characters that Frank Oz has portrayed at least twice.'*\n",
    "\n",
    "**Answer:**\n",
    "\n",
    "`c = cast[cast['name'] == 'Frank Oz']` #first filter the df to only include films Frank Oz was in\n",
    "\n",
    "`c = c.groupby('character').size()` # since we want to know each of the characters he's played, we group by characters\n",
    "\n",
    "\n",
    "`c[c>2]` # finally we only want characters he's played more than twice, so we can add a further condition`\n",
    "\n",
    "\n",
    "## **Harder example of groupby():**\n",
    "\n",
    "***Question** - How many leading (n=1) roles were available to actors, and how many to actresses, in each year of the 1950s?*\n",
    "\n",
    "**Answer:**\n",
    "`c = cast[(cast['n'] == 1) & (cast['year']//10 == 195)]` #first step is always to filter/subset the data to only include the data you need\n",
    "\n",
    "`c.groupby(['year','type']).size()` #for each year, we want to know the split between actors/actresses so we first groupby year and then type"
   ]
  },
  {
   "cell_type": "markdown",
   "metadata": {},
   "source": []
  }
 ],
 "metadata": {
  "kernelspec": {
   "display_name": "Python 3",
   "language": "python",
   "name": "python3"
  },
  "language_info": {
   "codemirror_mode": {
    "name": "ipython",
    "version": 3
   },
   "file_extension": ".py",
   "mimetype": "text/x-python",
   "name": "python",
   "nbconvert_exporter": "python",
   "pygments_lexer": "ipython3",
   "version": "3.7.1"
  }
 },
 "nbformat": 4,
 "nbformat_minor": 2
}
