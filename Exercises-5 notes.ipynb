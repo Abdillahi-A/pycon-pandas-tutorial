{
 "cells": [
  {
   "cell_type": "markdown",
   "metadata": {},
   "source": [
    "# Methods to remember\n",
    "\n",
    "- `df['columnName']str.contains()`- tells you whether a string contains a certain substring within it\n",
    "\n",
    "-`df.merge(biggerDataFrame)`- allows you two merge two df's together. **NB: usually call .merge on the smaller df**\n",
    "\n",
    "- `ax = df.plot()` - saves your plot in an ax variable, allowing you to make more adjustments to your plot\n",
    "\n",
    "- `ax.set_xlabel('TitleOfX-Axis')` - change title of x and y axis\n",
    "\n",
    "- `ax.set_xticklabels(['Jan','Feb','Mar','Apr','May','Jun','Jul',\"Aug\",'Sep','Oct','Nov','Dec'])` - will change the x-ticks on your plot to show months as strings not ints.\n",
    "\n",
    "\n",
    "\n",
    "# Summary of Lessons:\n",
    "\n",
    "Learned how to:\n",
    "1. merge two dataframes with a common link using `merge`\n",
    "2. how to tiltle your x and y-axis using `set_xlabel('TitleOfX-Axis')`\n",
    "3. how to tiltle your x-tick and y-ticks using `ax.set_xticklabels(['Jan','Feb'])`\n",
    "\n"
   ]
  },
  {
   "cell_type": "code",
   "execution_count": null,
   "metadata": {},
   "outputs": [],
   "source": []
  }
 ],
 "metadata": {
  "kernelspec": {
   "display_name": "Python 3",
   "language": "python",
   "name": "python3"
  },
  "language_info": {
   "codemirror_mode": {
    "name": "ipython",
    "version": 3
   },
   "file_extension": ".py",
   "mimetype": "text/x-python",
   "name": "python",
   "nbconvert_exporter": "python",
   "pygments_lexer": "ipython3",
   "version": "3.7.1"
  }
 },
 "nbformat": 4,
 "nbformat_minor": 2
}
